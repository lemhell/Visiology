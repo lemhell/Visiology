{
 "cells": [
  {
   "cell_type": "code",
   "execution_count": 1,
   "metadata": {},
   "outputs": [],
   "source": [
    "import pandas as pd\n",
    "import numpy as np\n",
    "import warnings\n",
    "\n",
    "from catboost import CatBoostClassifier\n",
    "from sklearn.ensemble import RandomForestClassifier, AdaBoostClassifier, GradientBoostingClassifier\n",
    "from sklearn.linear_model import LogisticRegression\n",
    "from sklearn.metrics import accuracy_score, f1_score, make_scorer, recall_score\n",
    "from sklearn.model_selection import train_test_split, cross_val_score, GridSearchCV\n",
    "from sklearn.naive_bayes import GaussianNB, MultinomialNB\n",
    "from sklearn.neighbors import KNeighborsClassifier\n",
    "\n",
    "from mlxtend.classifier import StackingClassifier\n",
    "\n",
    "from matplotlib import pyplot as plt\n",
    "%matplotlib inline"
   ]
  },
  {
   "cell_type": "markdown",
   "metadata": {},
   "source": [
    "# Visiology test task\n",
    "Appendicitis type classification"
   ]
  },
  {
   "cell_type": "code",
   "execution_count": 2,
   "metadata": {
    "collapsed": true
   },
   "outputs": [],
   "source": [
    "data = pd.read_csv(\"./data/03 - Appendicitis.csv\", index_col='Unnamed: 0')"
   ]
  },
  {
   "cell_type": "code",
   "execution_count": 3,
   "metadata": {},
   "outputs": [
    {
     "data": {
      "text/plain": [
       "(103, 13)"
      ]
     },
     "execution_count": 3,
     "metadata": {},
     "output_type": "execute_result"
    }
   ],
   "source": [
    "data.shape"
   ]
  },
  {
   "cell_type": "code",
   "execution_count": 4,
   "metadata": {},
   "outputs": [
    {
     "data": {
      "text/html": [
       "<div>\n",
       "<table border=\"1\" class=\"dataframe\">\n",
       "  <thead>\n",
       "    <tr style=\"text-align: right;\">\n",
       "      <th></th>\n",
       "      <th>V1</th>\n",
       "      <th>V2</th>\n",
       "      <th>V3</th>\n",
       "      <th>V4</th>\n",
       "      <th>V5</th>\n",
       "      <th>V6</th>\n",
       "      <th>V7</th>\n",
       "      <th>V8</th>\n",
       "      <th>V9</th>\n",
       "      <th>V10</th>\n",
       "      <th>V11</th>\n",
       "      <th>V12</th>\n",
       "      <th>Type</th>\n",
       "    </tr>\n",
       "  </thead>\n",
       "  <tbody>\n",
       "    <tr>\n",
       "      <th>1</th>\n",
       "      <td>1</td>\n",
       "      <td>0</td>\n",
       "      <td>0</td>\n",
       "      <td>1</td>\n",
       "      <td>1</td>\n",
       "      <td>1</td>\n",
       "      <td>0</td>\n",
       "      <td>1</td>\n",
       "      <td>1</td>\n",
       "      <td>1</td>\n",
       "      <td>0</td>\n",
       "      <td>1</td>\n",
       "      <td>1</td>\n",
       "    </tr>\n",
       "    <tr>\n",
       "      <th>2</th>\n",
       "      <td>1</td>\n",
       "      <td>0</td>\n",
       "      <td>1</td>\n",
       "      <td>1</td>\n",
       "      <td>0</td>\n",
       "      <td>1</td>\n",
       "      <td>0</td>\n",
       "      <td>1</td>\n",
       "      <td>1</td>\n",
       "      <td>1</td>\n",
       "      <td>0</td>\n",
       "      <td>1</td>\n",
       "      <td>1</td>\n",
       "    </tr>\n",
       "    <tr>\n",
       "      <th>3</th>\n",
       "      <td>1</td>\n",
       "      <td>0</td>\n",
       "      <td>0</td>\n",
       "      <td>1</td>\n",
       "      <td>1</td>\n",
       "      <td>1</td>\n",
       "      <td>0</td>\n",
       "      <td>0</td>\n",
       "      <td>1</td>\n",
       "      <td>1</td>\n",
       "      <td>1</td>\n",
       "      <td>1</td>\n",
       "      <td>1</td>\n",
       "    </tr>\n",
       "  </tbody>\n",
       "</table>\n",
       "</div>"
      ],
      "text/plain": [
       "   V1  V2  V3  V4  V5  V6  V7  V8  V9  V10  V11  V12  Type\n",
       "1   1   0   0   1   1   1   0   1   1    1    0    1     1\n",
       "2   1   0   1   1   0   1   0   1   1    1    0    1     1\n",
       "3   1   0   0   1   1   1   0   0   1    1    1    1     1"
      ]
     },
     "execution_count": 4,
     "metadata": {},
     "output_type": "execute_result"
    }
   ],
   "source": [
    "data.head(3)"
   ]
  },
  {
   "cell_type": "code",
   "execution_count": 5,
   "metadata": {},
   "outputs": [
    {
     "data": {
      "text/plain": [
       "V1      0\n",
       "V2      0\n",
       "V3      0\n",
       "V4      0\n",
       "V5      0\n",
       "V6      0\n",
       "V7      0\n",
       "V8      0\n",
       "V9      0\n",
       "V10     0\n",
       "V11     0\n",
       "V12     0\n",
       "Type    0\n",
       "dtype: int64"
      ]
     },
     "execution_count": 5,
     "metadata": {},
     "output_type": "execute_result"
    }
   ],
   "source": [
    "data.isnull().sum()"
   ]
  },
  {
   "cell_type": "markdown",
   "metadata": {},
   "source": [
    "No missing values"
   ]
  },
  {
   "cell_type": "code",
   "execution_count": 6,
   "metadata": {},
   "outputs": [
    {
     "data": {
      "text/plain": [
       "{'Type': 'Тип аппендицита (0 - отсутствует, 1 - гангренозный, 2 - флегмонозный, 3 - катаральный)',\n",
       " 'V1': 'Выраженные боли в правой подвздошной области',\n",
       " 'V10': 'Симптом Щеткина-Блюмберга выражен',\n",
       " 'V11': 'Симптом Ровзинга выражен',\n",
       " 'V12': 'Защитное мышечное напряжение выражено',\n",
       " 'V2': 'Боли более 48 часов',\n",
       " 'V3': 'Боли более 24 часов',\n",
       " 'V4': 'Боли более 12 часов',\n",
       " 'V5': 'Частота пульса менее 80 уд/мин',\n",
       " 'V6': 'Частота пульса менее 100 уд/мин',\n",
       " 'V7': 'Лейкоциты крови ниже 8 тыс. ед.',\n",
       " 'V8': 'Лейкоциты крови ниже 14 тыс. ед.',\n",
       " 'V9': 'Язык  обложен'}"
      ]
     },
     "execution_count": 6,
     "metadata": {},
     "output_type": "execute_result"
    }
   ],
   "source": [
    "with open(\"./data/03 - Appendicitis.txt\", 'r', encoding='cp1251') as f:\n",
    "    desc_text = f.readlines()\n",
    "\n",
    "desc = {a: b for (a, b) in [row.split('\\t') for row in [row.split('\\n')[0] for row in desc_text]]}\n",
    "desc"
   ]
  },
  {
   "cell_type": "code",
   "execution_count": 7,
   "metadata": {},
   "outputs": [
    {
     "data": {
      "text/html": [
       "<div>\n",
       "<table border=\"1\" class=\"dataframe\">\n",
       "  <thead>\n",
       "    <tr style=\"text-align: right;\">\n",
       "      <th></th>\n",
       "      <th>V1</th>\n",
       "      <th>V2</th>\n",
       "      <th>V3</th>\n",
       "      <th>V4</th>\n",
       "      <th>V5</th>\n",
       "      <th>V6</th>\n",
       "      <th>V7</th>\n",
       "      <th>V8</th>\n",
       "      <th>V9</th>\n",
       "      <th>V10</th>\n",
       "      <th>V11</th>\n",
       "      <th>V12</th>\n",
       "      <th>Type</th>\n",
       "    </tr>\n",
       "  </thead>\n",
       "  <tbody>\n",
       "    <tr>\n",
       "      <th>count</th>\n",
       "      <td>103.000000</td>\n",
       "      <td>103.00000</td>\n",
       "      <td>103.000000</td>\n",
       "      <td>103.000000</td>\n",
       "      <td>103.000000</td>\n",
       "      <td>103.000000</td>\n",
       "      <td>103.000000</td>\n",
       "      <td>103.000000</td>\n",
       "      <td>103.000000</td>\n",
       "      <td>103.000000</td>\n",
       "      <td>103.000000</td>\n",
       "      <td>103.000000</td>\n",
       "      <td>103.000000</td>\n",
       "    </tr>\n",
       "    <tr>\n",
       "      <th>mean</th>\n",
       "      <td>0.611650</td>\n",
       "      <td>0.15534</td>\n",
       "      <td>0.339806</td>\n",
       "      <td>0.699029</td>\n",
       "      <td>0.669903</td>\n",
       "      <td>0.961165</td>\n",
       "      <td>0.291262</td>\n",
       "      <td>0.796117</td>\n",
       "      <td>0.650485</td>\n",
       "      <td>0.582524</td>\n",
       "      <td>0.601942</td>\n",
       "      <td>0.543689</td>\n",
       "      <td>1.514563</td>\n",
       "    </tr>\n",
       "    <tr>\n",
       "      <th>std</th>\n",
       "      <td>0.489758</td>\n",
       "      <td>0.36400</td>\n",
       "      <td>0.475959</td>\n",
       "      <td>0.460923</td>\n",
       "      <td>0.472547</td>\n",
       "      <td>0.194146</td>\n",
       "      <td>0.456566</td>\n",
       "      <td>0.404853</td>\n",
       "      <td>0.479148</td>\n",
       "      <td>0.495554</td>\n",
       "      <td>0.491891</td>\n",
       "      <td>0.500523</td>\n",
       "      <td>1.110238</td>\n",
       "    </tr>\n",
       "    <tr>\n",
       "      <th>min</th>\n",
       "      <td>0.000000</td>\n",
       "      <td>0.00000</td>\n",
       "      <td>0.000000</td>\n",
       "      <td>0.000000</td>\n",
       "      <td>0.000000</td>\n",
       "      <td>0.000000</td>\n",
       "      <td>0.000000</td>\n",
       "      <td>0.000000</td>\n",
       "      <td>0.000000</td>\n",
       "      <td>0.000000</td>\n",
       "      <td>0.000000</td>\n",
       "      <td>0.000000</td>\n",
       "      <td>0.000000</td>\n",
       "    </tr>\n",
       "    <tr>\n",
       "      <th>25%</th>\n",
       "      <td>0.000000</td>\n",
       "      <td>0.00000</td>\n",
       "      <td>0.000000</td>\n",
       "      <td>0.000000</td>\n",
       "      <td>0.000000</td>\n",
       "      <td>1.000000</td>\n",
       "      <td>0.000000</td>\n",
       "      <td>1.000000</td>\n",
       "      <td>0.000000</td>\n",
       "      <td>0.000000</td>\n",
       "      <td>0.000000</td>\n",
       "      <td>0.000000</td>\n",
       "      <td>1.000000</td>\n",
       "    </tr>\n",
       "    <tr>\n",
       "      <th>50%</th>\n",
       "      <td>1.000000</td>\n",
       "      <td>0.00000</td>\n",
       "      <td>0.000000</td>\n",
       "      <td>1.000000</td>\n",
       "      <td>1.000000</td>\n",
       "      <td>1.000000</td>\n",
       "      <td>0.000000</td>\n",
       "      <td>1.000000</td>\n",
       "      <td>1.000000</td>\n",
       "      <td>1.000000</td>\n",
       "      <td>1.000000</td>\n",
       "      <td>1.000000</td>\n",
       "      <td>1.000000</td>\n",
       "    </tr>\n",
       "    <tr>\n",
       "      <th>75%</th>\n",
       "      <td>1.000000</td>\n",
       "      <td>0.00000</td>\n",
       "      <td>1.000000</td>\n",
       "      <td>1.000000</td>\n",
       "      <td>1.000000</td>\n",
       "      <td>1.000000</td>\n",
       "      <td>1.000000</td>\n",
       "      <td>1.000000</td>\n",
       "      <td>1.000000</td>\n",
       "      <td>1.000000</td>\n",
       "      <td>1.000000</td>\n",
       "      <td>1.000000</td>\n",
       "      <td>2.500000</td>\n",
       "    </tr>\n",
       "    <tr>\n",
       "      <th>max</th>\n",
       "      <td>1.000000</td>\n",
       "      <td>1.00000</td>\n",
       "      <td>1.000000</td>\n",
       "      <td>1.000000</td>\n",
       "      <td>1.000000</td>\n",
       "      <td>1.000000</td>\n",
       "      <td>1.000000</td>\n",
       "      <td>1.000000</td>\n",
       "      <td>1.000000</td>\n",
       "      <td>1.000000</td>\n",
       "      <td>1.000000</td>\n",
       "      <td>1.000000</td>\n",
       "      <td>3.000000</td>\n",
       "    </tr>\n",
       "  </tbody>\n",
       "</table>\n",
       "</div>"
      ],
      "text/plain": [
       "               V1         V2          V3          V4          V5          V6  \\\n",
       "count  103.000000  103.00000  103.000000  103.000000  103.000000  103.000000   \n",
       "mean     0.611650    0.15534    0.339806    0.699029    0.669903    0.961165   \n",
       "std      0.489758    0.36400    0.475959    0.460923    0.472547    0.194146   \n",
       "min      0.000000    0.00000    0.000000    0.000000    0.000000    0.000000   \n",
       "25%      0.000000    0.00000    0.000000    0.000000    0.000000    1.000000   \n",
       "50%      1.000000    0.00000    0.000000    1.000000    1.000000    1.000000   \n",
       "75%      1.000000    0.00000    1.000000    1.000000    1.000000    1.000000   \n",
       "max      1.000000    1.00000    1.000000    1.000000    1.000000    1.000000   \n",
       "\n",
       "               V7          V8          V9         V10         V11         V12  \\\n",
       "count  103.000000  103.000000  103.000000  103.000000  103.000000  103.000000   \n",
       "mean     0.291262    0.796117    0.650485    0.582524    0.601942    0.543689   \n",
       "std      0.456566    0.404853    0.479148    0.495554    0.491891    0.500523   \n",
       "min      0.000000    0.000000    0.000000    0.000000    0.000000    0.000000   \n",
       "25%      0.000000    1.000000    0.000000    0.000000    0.000000    0.000000   \n",
       "50%      0.000000    1.000000    1.000000    1.000000    1.000000    1.000000   \n",
       "75%      1.000000    1.000000    1.000000    1.000000    1.000000    1.000000   \n",
       "max      1.000000    1.000000    1.000000    1.000000    1.000000    1.000000   \n",
       "\n",
       "             Type  \n",
       "count  103.000000  \n",
       "mean     1.514563  \n",
       "std      1.110238  \n",
       "min      0.000000  \n",
       "25%      1.000000  \n",
       "50%      1.000000  \n",
       "75%      2.500000  \n",
       "max      3.000000  "
      ]
     },
     "execution_count": 7,
     "metadata": {},
     "output_type": "execute_result"
    }
   ],
   "source": [
    "data.describe()"
   ]
  },
  {
   "cell_type": "code",
   "execution_count": 8,
   "metadata": {},
   "outputs": [
    {
     "name": "stdout",
     "output_type": "stream",
     "text": [
      "V1 Выраженные боли в правой подвздошной области \n",
      " 1    63\n",
      "0    40\n",
      "Name: V1, dtype: int64 \n",
      "\n",
      "V2 Боли более 48 часов \n",
      " 0    87\n",
      "1    16\n",
      "Name: V2, dtype: int64 \n",
      "\n",
      "V3 Боли более 24 часов \n",
      " 0    68\n",
      "1    35\n",
      "Name: V3, dtype: int64 \n",
      "\n",
      "V4 Боли более 12 часов \n",
      " 1    72\n",
      "0    31\n",
      "Name: V4, dtype: int64 \n",
      "\n",
      "V5 Частота пульса менее 80 уд/мин \n",
      " 1    69\n",
      "0    34\n",
      "Name: V5, dtype: int64 \n",
      "\n",
      "V6 Частота пульса менее 100 уд/мин \n",
      " 1    99\n",
      "0     4\n",
      "Name: V6, dtype: int64 \n",
      "\n",
      "V7 Лейкоциты крови ниже 8 тыс. ед. \n",
      " 0    73\n",
      "1    30\n",
      "Name: V7, dtype: int64 \n",
      "\n",
      "V8 Лейкоциты крови ниже 14 тыс. ед. \n",
      " 1    82\n",
      "0    21\n",
      "Name: V8, dtype: int64 \n",
      "\n",
      "V9 Язык  обложен \n",
      " 1    67\n",
      "0    36\n",
      "Name: V9, dtype: int64 \n",
      "\n",
      "V10 Симптом Щеткина-Блюмберга выражен \n",
      " 1    60\n",
      "0    43\n",
      "Name: V10, dtype: int64 \n",
      "\n",
      "V11 Симптом Ровзинга выражен \n",
      " 1    62\n",
      "0    41\n",
      "Name: V11, dtype: int64 \n",
      "\n",
      "V12 Защитное мышечное напряжение выражено \n",
      " 1    56\n",
      "0    47\n",
      "Name: V12, dtype: int64 \n",
      "\n",
      "Type Тип аппендицита (0 - отсутствует, 1 - гангренозный, 2 - флегмонозный, 3 - катаральный) \n",
      " 1    28\n",
      "3    26\n",
      "2    25\n",
      "0    24\n",
      "Name: Type, dtype: int64 \n",
      "\n"
     ]
    }
   ],
   "source": [
    "for col in data.columns:\n",
    "    print(col, desc[col], '\\n', data[col].value_counts(), '\\n')"
   ]
  },
  {
   "cell_type": "markdown",
   "metadata": {},
   "source": [
    "## Correlation"
   ]
  },
  {
   "cell_type": "code",
   "execution_count": 9,
   "metadata": {
    "scrolled": true
   },
   "outputs": [
    {
     "data": {
      "image/png": "[encoded data removed]",
      "text/plain": [
       "<Figure size 288x288 with 2 Axes>"
      ]
     },
     "metadata": {},
     "output_type": "display_data"
    }
   ],
   "source": [
    "plt.matshow(data.corr())\n",
    "plt.colorbar();"
   ]
  },
  {
   "cell_type": "code",
   "execution_count": 10,
   "metadata": {
    "collapsed": true
   },
   "outputs": [],
   "source": [
    "def find_correlation(data, threshold=0.9):\n",
    "    \"\"\"\n",
    "    Given a numeric pd.DataFrame, this will find highly correlated features,\n",
    "    and return a list of features to remove.\n",
    "    \n",
    "    Code from here:\n",
    "    https://gist.github.com/Swarchal/e29a3a1113403710b6850590641f046c\n",
    "    \n",
    "    Parameters\n",
    "    -----------\n",
    "    data : pandas DataFrame\n",
    "        DataFrame\n",
    "    threshold : float\n",
    "        correlation threshold, will remove one of pairs of features with a\n",
    "        correlation greater than this value\n",
    "    Returns\n",
    "    --------\n",
    "    select_flat : list\n",
    "        listof column names to be removed\n",
    "    \"\"\"\n",
    "    corr_mat = data.corr()\n",
    "    corr_mat.loc[:, :] = np.tril(corr_mat, k=-1)\n",
    "    already_in = set()\n",
    "    result = []\n",
    "    for col in corr_mat:\n",
    "        perfect_corr = corr_mat[col][corr_mat[col] > threshold].index.tolist()\n",
    "        if perfect_corr and col not in already_in:\n",
    "            already_in.update(set(perfect_corr))\n",
    "            perfect_corr.append(col)\n",
    "            result.append(perfect_corr)\n",
    "    select_nested = [f[1:] for f in result]\n",
    "    select_flat = [i for j in select_nested for i in j]\n",
    "    return select_flat"
   ]
  },
  {
   "cell_type": "code",
   "execution_count": 11,
   "metadata": {},
   "outputs": [
    {
     "data": {
      "text/plain": [
       "[]"
      ]
     },
     "execution_count": 11,
     "metadata": {},
     "output_type": "execute_result"
    }
   ],
   "source": [
    "find_correlation(data)"
   ]
  },
  {
   "cell_type": "markdown",
   "metadata": {},
   "source": [
    "No highly correlated features."
   ]
  },
  {
   "cell_type": "markdown",
   "metadata": {},
   "source": [
    "## Feature importances"
   ]
  },
  {
   "cell_type": "code",
   "execution_count": 12,
   "metadata": {
    "collapsed": true
   },
   "outputs": [],
   "source": [
    "def test_clf(clf, X, y):\n",
    "    \"\"\"\n",
    "    Test the classifier.\n",
    "    Recall is chosen to minimize the error\n",
    "    when finding ill people.\n",
    "    \"\"\"\n",
    "    with warnings.catch_warnings(): \n",
    "        warnings.simplefilter(\"ignore\")\n",
    "        recall_scorer = make_scorer(recall_score, average='macro')\n",
    "        recall_res = cross_val_score(clf, X, y, scoring=recall_scorer, cv=10)\n",
    "        f1_scorer = make_scorer(f1_score, average='macro')\n",
    "        f1_res = cross_val_score(clf, X, y, scoring=f1_scorer, cv=10)\n",
    "    print(\"Recall: {} +/- {}\".format(np.mean(recall_res), np.std(recall_res)))\n",
    "    print(\"F1: {} +/- {}\".format(np.mean(f1_res), np.std(f1_res)))"
   ]
  },
  {
   "cell_type": "code",
   "execution_count": 13,
   "metadata": {
    "collapsed": true
   },
   "outputs": [],
   "source": [
    "X, y = data.drop('Type', axis=1), data['Type']"
   ]
  },
  {
   "cell_type": "code",
   "execution_count": 14,
   "metadata": {},
   "outputs": [
    {
     "name": "stdout",
     "output_type": "stream",
     "text": [
      "Recall: 0.6333333333333333 +/- 0.14409680388158821\n",
      "F1: 0.5847619047619048 +/- 0.11199913700266803\n"
     ]
    }
   ],
   "source": [
    "rf = RandomForestClassifier()\n",
    "test_clf(rf, X, y)"
   ]
  },
  {
   "cell_type": "code",
   "execution_count": 15,
   "metadata": {},
   "outputs": [
    {
     "data": {
      "text/plain": [
       "[(0.14870173311275234, 'V12'),\n",
       " (0.12937279623960357, 'V10'),\n",
       " (0.12491862735483852, 'V4'),\n",
       " (0.11820626674460208, 'V11'),\n",
       " (0.08854644680083856, 'V5'),\n",
       " (0.08643352757847376, 'V1'),\n",
       " (0.07331682761078939, 'V3'),\n",
       " (0.07032536569252171, 'V9'),\n",
       " (0.06403072222985472, 'V8'),\n",
       " (0.049847872858259576, 'V7'),\n",
       " (0.02780283687244863, 'V2'),\n",
       " (0.01849697690501719, 'V6')]"
      ]
     },
     "execution_count": 15,
     "metadata": {},
     "output_type": "execute_result"
    }
   ],
   "source": [
    "rf.fit(X, y)\n",
    "importances = sorted(list(zip(rf.feature_importances_, X.columns)), key=lambda x: x[0], reverse=True)\n",
    "importances"
   ]
  },
  {
   "cell_type": "code",
   "execution_count": 16,
   "metadata": {
    "scrolled": false
   },
   "outputs": [
    {
     "name": "stdout",
     "output_type": "stream",
     "text": [
      "Recall: 0.475 +/- 0.03818813079129868\n",
      "F1: 0.320719696969697 +/- 0.02842393397029661\n",
      "['V12']\n",
      "\n",
      "Recall: 0.5791666666666666 +/- 0.08630131323836658\n",
      "F1: 0.5222619047619047 +/- 0.08340694028121898\n",
      "['V12', 'V10']\n",
      "\n",
      "Recall: 0.6791666666666666 +/- 0.07916666666666668\n",
      "F1: 0.6229761904761905 +/- 0.09393008025826581\n",
      "['V12', 'V10', 'V4']\n",
      "\n",
      "Recall: 0.6083333333333333 +/- 0.10736748938937606\n",
      "F1: 0.5945238095238097 +/- 0.08250987709719428\n",
      "['V12', 'V10', 'V4', 'V11']\n",
      "\n",
      "Recall: 0.6583333333333333 +/- 0.109924216318941\n",
      "F1: 0.6461904761904762 +/- 0.0674881361876078\n",
      "['V12', 'V10', 'V4', 'V11', 'V5']\n",
      "\n",
      "Recall: 0.6875 +/- 0.09547032697824669\n",
      "F1: 0.6668452380952381 +/- 0.09153207884078728\n",
      "['V12', 'V10', 'V4', 'V11', 'V5', 'V1']\n",
      "\n",
      "Recall: 0.6541666666666666 +/- 0.08133008873309641\n",
      "F1: 0.6419444444444443 +/- 0.10112654376257282\n",
      "['V12', 'V10', 'V4', 'V11', 'V5', 'V1', 'V3']\n",
      "\n",
      "Recall: 0.6416666666666666 +/- 0.10897247358851686\n",
      "F1: 0.6136309523809524 +/- 0.10522100768945179\n",
      "['V12', 'V10', 'V4', 'V11', 'V5', 'V1', 'V3', 'V9']\n",
      "\n",
      "Recall: 0.65 +/- 0.10897247358851685\n",
      "F1: 0.6283333333333332 +/- 0.10295113925950468\n",
      "['V12', 'V10', 'V4', 'V11', 'V5', 'V1', 'V3', 'V9', 'V8']\n",
      "\n",
      "Recall: 0.6041666666666666 +/- 0.07511565157216644\n",
      "F1: 0.5673809523809523 +/- 0.1594251205036993\n",
      "['V12', 'V10', 'V4', 'V11', 'V5', 'V1', 'V3', 'V9', 'V8', 'V7']\n",
      "\n",
      "Recall: 0.6458333333333334 +/- 0.07034142923389222\n",
      "F1: 0.661904761904762 +/- 0.12704087893522667\n",
      "['V12', 'V10', 'V4', 'V11', 'V5', 'V1', 'V3', 'V9', 'V8', 'V7', 'V2']\n",
      "\n",
      "Recall: 0.5958333333333333 +/- 0.0969141945801084\n",
      "F1: 0.6049404761904762 +/- 0.1384928722062166\n",
      "['V12', 'V10', 'V4', 'V11', 'V5', 'V1', 'V3', 'V9', 'V8', 'V7', 'V2', 'V6']\n",
      "\n"
     ]
    }
   ],
   "source": [
    "for i in range(1, len(importances) + 1):\n",
    "    cols = list(map(lambda x: x[1], importances[:i]))\n",
    "    X_cur = X[cols]\n",
    "    clf = RandomForestClassifier()\n",
    "    test_clf(clf, X_cur, y)\n",
    "    print(cols)\n",
    "    print()"
   ]
  },
  {
   "cell_type": "markdown",
   "metadata": {},
   "source": [
    "## Different classifiers"
   ]
  },
  {
   "cell_type": "markdown",
   "metadata": {},
   "source": [
    "Random Forest"
   ]
  },
  {
   "cell_type": "code",
   "execution_count": 17,
   "metadata": {},
   "outputs": [
    {
     "name": "stdout",
     "output_type": "stream",
     "text": [
      "Recall: 0.6458333333333333 +/- 0.12672421938121292\n",
      "F1: 0.6235515873015872 +/- 0.12132994263253366\n"
     ]
    }
   ],
   "source": [
    "rf = RandomForestClassifier(n_estimators=10)\n",
    "test_clf(rf, X, y)"
   ]
  },
  {
   "cell_type": "markdown",
   "metadata": {},
   "source": [
    "Gradient Boosting"
   ]
  },
  {
   "cell_type": "code",
   "execution_count": 18,
   "metadata": {
    "scrolled": true
   },
   "outputs": [
    {
     "name": "stdout",
     "output_type": "stream",
     "text": [
      "Recall: 0.6041666666666667 +/- 0.10248644896874036\n",
      "F1: 0.5658333333333332 +/- 0.08289561914522013\n"
     ]
    }
   ],
   "source": [
    "gb = GradientBoostingClassifier(learning_rate=0.1, n_estimators=50)\n",
    "test_clf(gb, X, y)"
   ]
  },
  {
   "cell_type": "code",
   "execution_count": 19,
   "metadata": {},
   "outputs": [
    {
     "name": "stdout",
     "output_type": "stream",
     "text": [
      "Recall: 0.42333333333333334 +/- 0.4158124577258358\n",
      "F1: 0.41307189542483663 +/- 0.4155629364438572\n"
     ]
    }
   ],
   "source": [
    "cat = CatBoostClassifier(verbose=False)\n",
    "test_clf(cat, X, y)"
   ]
  },
  {
   "cell_type": "markdown",
   "metadata": {},
   "source": [
    "Logistic Regression"
   ]
  },
  {
   "cell_type": "code",
   "execution_count": 20,
   "metadata": {},
   "outputs": [
    {
     "name": "stdout",
     "output_type": "stream",
     "text": [
      "Recall: 0.65 +/- 0.08579691784155835\n",
      "F1: 0.6179166666666666 +/- 0.10822157042377763\n"
     ]
    }
   ],
   "source": [
    "lr = LogisticRegression()\n",
    "test_clf(lr, X, y)"
   ]
  },
  {
   "cell_type": "markdown",
   "metadata": {},
   "source": [
    "Naïve Bayes"
   ]
  },
  {
   "cell_type": "code",
   "execution_count": 21,
   "metadata": {},
   "outputs": [
    {
     "name": "stdout",
     "output_type": "stream",
     "text": [
      "Recall: 0.6708333333333333 +/- 0.10937003957005574\n",
      "F1: 0.6710119047619048 +/- 0.10811793408157605\n"
     ]
    }
   ],
   "source": [
    "mnb = MultinomialNB()\n",
    "test_clf(mnb, X, y)"
   ]
  },
  {
   "cell_type": "code",
   "execution_count": 22,
   "metadata": {},
   "outputs": [
    {
     "name": "stdout",
     "output_type": "stream",
     "text": [
      "Recall: 0.5208333333333333 +/- 0.06521864934374387\n",
      "F1: 0.4560119047619048 +/- 0.07477216433243669\n"
     ]
    }
   ],
   "source": [
    "gnb = GaussianNB()\n",
    "test_clf(gnb, X, y)"
   ]
  },
  {
   "cell_type": "markdown",
   "metadata": {},
   "source": [
    "kNN"
   ]
  },
  {
   "cell_type": "code",
   "execution_count": 23,
   "metadata": {},
   "outputs": [
    {
     "name": "stdout",
     "output_type": "stream",
     "text": [
      "Recall: 0.6166666666666666 +/- 0.11149240133549708\n",
      "F1: 0.5529166666666667 +/- 0.14345545590460537\n"
     ]
    }
   ],
   "source": [
    "knn = KNeighborsClassifier(n_neighbors=5)\n",
    "test_clf(knn, X, y)"
   ]
  },
  {
   "cell_type": "markdown",
   "metadata": {},
   "source": [
    "## GridSearch"
   ]
  },
  {
   "cell_type": "code",
   "execution_count": 24,
   "metadata": {
    "collapsed": true
   },
   "outputs": [],
   "source": [
    "def test_gridsearch(clf, params, X, y):\n",
    "    scorer = make_scorer(f1_score, average='macro')\n",
    "    grid_search = GridSearchCV(clf, params, scoring=scorer, n_jobs=-1)\n",
    "\n",
    "    X_train, X_test, y_train, y_test = train_test_split(X, y, test_size=0.2)\n",
    "    with warnings.catch_warnings():\n",
    "        warnings.simplefilter('ignore')\n",
    "        grid_search.fit(X_train, y_train)\n",
    "        test_score = f1_score(y_test, grid_search.best_estimator_.predict(X_test), average='macro')\n",
    "    print(\"Params: {}, score: {}\".format(grid_search.best_params_, grid_search.best_score_))\n",
    "    print(\"Test score: {}\".format(test_score))"
   ]
  },
  {
   "cell_type": "code",
   "execution_count": 25,
   "metadata": {},
   "outputs": [
    {
     "name": "stdout",
     "output_type": "stream",
     "text": [
      "Params: {'learning_rate': 0.1, 'max_depth': 1, 'n_estimators': 50}, score: 0.6200109029131908\n",
      "Test score: 0.6174242424242424\n"
     ]
    }
   ],
   "source": [
    "gb = GradientBoostingClassifier()\n",
    "params = {\n",
    "    'learning_rate': [1, 0.1, 0.01],\n",
    "    'n_estimators': [5, 10, 50],\n",
    "    'max_depth': [1, 3, 5]\n",
    "}\n",
    "test_gridsearch(gb, params, X, y)"
   ]
  },
  {
   "cell_type": "code",
   "execution_count": 26,
   "metadata": {},
   "outputs": [
    {
     "name": "stdout",
     "output_type": "stream",
     "text": [
      "Params: {'max_depth': 3, 'n_estimators': 5}, score: 0.6159909992765086\n",
      "Test score: 0.4428571428571429\n"
     ]
    }
   ],
   "source": [
    "rf = RandomForestClassifier()\n",
    "params = {\n",
    "    'n_estimators': [5, 10, 50, 100],\n",
    "    'max_depth': [1, 3, 5]\n",
    "}\n",
    "test_gridsearch(rf, params, X, y)"
   ]
  },
  {
   "cell_type": "code",
   "execution_count": 27,
   "metadata": {},
   "outputs": [
    {
     "name": "stdout",
     "output_type": "stream",
     "text": [
      "Params: {'alpha': 2}, score: 0.6063101532613727\n",
      "Test score: 0.661111111111111\n"
     ]
    }
   ],
   "source": [
    "mnb = MultinomialNB()\n",
    "params = {\n",
    "    'alpha': [0, 1, 2, 5, 10]\n",
    "}\n",
    "test_gridsearch(mnb, params, X, y)"
   ]
  },
  {
   "cell_type": "code",
   "execution_count": 28,
   "metadata": {},
   "outputs": [
    {
     "name": "stdout",
     "output_type": "stream",
     "text": [
      "Params: {'n_neighbors': 10, 'p': 1, 'weights': 'distance'}, score: 0.6443203004740231\n",
      "Test score: 0.6625\n"
     ]
    }
   ],
   "source": [
    "knn = KNeighborsClassifier()\n",
    "params = {\n",
    "    'n_neighbors': [1, 3, 5, 10],\n",
    "    'weights': ['uniform', 'distance'],\n",
    "    'p': [1, 2, 3]\n",
    "}\n",
    "test_gridsearch(knn, params, X, y)"
   ]
  },
  {
   "cell_type": "code",
   "execution_count": 29,
   "metadata": {},
   "outputs": [
    {
     "name": "stdout",
     "output_type": "stream",
     "text": [
      "Params: {'C': 10, 'penalty': 'l2'}, score: 0.6696465249639568\n",
      "Test score: 0.6069444444444444\n"
     ]
    }
   ],
   "source": [
    "lr = LogisticRegression()\n",
    "params = {\n",
    "    'penalty': ['l1', 'l2'],\n",
    "    'C': [10, 1, 0.1, 0.01]\n",
    "}\n",
    "test_gridsearch(lr, params, X, y)"
   ]
  },
  {
   "cell_type": "markdown",
   "metadata": {},
   "source": [
    "## Stacking classifier"
   ]
  },
  {
   "cell_type": "code",
   "execution_count": 30,
   "metadata": {},
   "outputs": [
    {
     "name": "stdout",
     "output_type": "stream",
     "text": [
      "Recall: 0.6708333333333333 +/- 0.1044994683665371\n",
      "F1: 0.6182738095238095 +/- 0.10060370843459822\n"
     ]
    }
   ],
   "source": [
    "rf = RandomForestClassifier(n_estimators=100, max_depth=5)\n",
    "gb = GradientBoostingClassifier(learning_rate=1, n_estimators=50, max_depth=1)\n",
    "mnb = MultinomialNB(alpha=1)\n",
    "gnb = GaussianNB()\n",
    "knn = KNeighborsClassifier(n_neighbors=3, p=1)\n",
    "lr = LogisticRegression(C=10)\n",
    "\n",
    "stacking_clf = StackingClassifier([rf, gb, mnb, gnb, knn], lr)\n",
    "test_clf(stacking_clf, X, y)"
   ]
  },
  {
   "cell_type": "markdown",
   "metadata": {},
   "source": [
    "## Target binarization"
   ]
  },
  {
   "cell_type": "markdown",
   "metadata": {},
   "source": [
    "Let's predict the existence of the illness, then specify the type of the illness."
   ]
  },
  {
   "cell_type": "code",
   "execution_count": 31,
   "metadata": {
    "collapsed": true
   },
   "outputs": [],
   "source": [
    "X_train, X_test, y_train, y_test = train_test_split(X, y, test_size=0.3)\n",
    "X_bin, y_bin = X_train.copy(), (y_train != 0).astype(np.int)\n",
    "X_ill, y_ill = X_train.iloc[np.where(y_train != 0)[0], :], y_train[y_train != 0]"
   ]
  },
  {
   "cell_type": "code",
   "execution_count": 32,
   "metadata": {
    "collapsed": true
   },
   "outputs": [],
   "source": [
    "rf = RandomForestClassifier(n_estimators=100, max_depth=5)\n",
    "gb = GradientBoostingClassifier(learning_rate=1, n_estimators=50, max_depth=1)\n",
    "mnb = MultinomialNB(alpha=1)\n",
    "gnb = GaussianNB()\n",
    "knn = KNeighborsClassifier(n_neighbors=3, p=1)\n",
    "lr = LogisticRegression(C=10)\n",
    "\n",
    "stacking_bin = StackingClassifier([rf, gb, mnb, gnb, knn], lr)\n",
    "stacking_ill = StackingClassifier([rf, gb, mnb, gnb, knn], lr)"
   ]
  },
  {
   "cell_type": "code",
   "execution_count": 33,
   "metadata": {},
   "outputs": [
    {
     "name": "stdout",
     "output_type": "stream",
     "text": [
      "Recall: 1.0 +/- 0.0\n",
      "F1: 0.9794871794871796 +/- 0.06153846153846156\n"
     ]
    }
   ],
   "source": [
    "test_clf(stacking_bin, X_bin, y_bin)"
   ]
  },
  {
   "cell_type": "code",
   "execution_count": 34,
   "metadata": {},
   "outputs": [
    {
     "name": "stdout",
     "output_type": "stream",
     "text": [
      "Recall: 0.5166666666666666 +/- 0.20344259359556174\n",
      "F1: 0.4588888888888888 +/- 0.22776693741142015\n"
     ]
    }
   ],
   "source": [
    "test_clf(stacking_ill, X_ill, y_ill)"
   ]
  },
  {
   "cell_type": "code",
   "execution_count": 35,
   "metadata": {
    "collapsed": true
   },
   "outputs": [],
   "source": [
    "def predict(X_test, clf_bin, clf_ill):\n",
    "    bin_pred = clf_bin.predict(X_test)\n",
    "    ill_inds = np.where(bin_pred == 1)[0]\n",
    "    X_ill_pred = X.iloc[ill_inds, :]\n",
    "    ill_pred = clf_ill.predict(X_ill_pred)\n",
    "    for index, value in enumerate(list(ill_pred)):\n",
    "        bin_pred[ill_inds[index]] = value\n",
    "    return bin_pred"
   ]
  },
  {
   "cell_type": "code",
   "execution_count": 36,
   "metadata": {},
   "outputs": [],
   "source": [
    "stacking_bin.fit(X_bin, y_bin)\n",
    "stacking_ill.fit(X_ill, y_ill)\n",
    "y_pred = predict(X_test, stacking_bin, stacking_ill)"
   ]
  },
  {
   "cell_type": "code",
   "execution_count": 37,
   "metadata": {},
   "outputs": [
    {
     "data": {
      "text/plain": [
       "0.4920634920634921"
      ]
     },
     "execution_count": 37,
     "metadata": {},
     "output_type": "execute_result"
    }
   ],
   "source": [
    "recall_score(y_test, y_pred, average='macro')"
   ]
  },
  {
   "cell_type": "code",
   "execution_count": 38,
   "metadata": {
    "scrolled": true
   },
   "outputs": [
    {
     "data": {
      "text/plain": [
       "0.9791666666666667"
      ]
     },
     "execution_count": 38,
     "metadata": {},
     "output_type": "execute_result"
    }
   ],
   "source": [
    "recall_score((y_test != 0).astype(np.int), (y_pred != 0).astype(np.int), average='macro')"
   ]
  },
  {
   "cell_type": "markdown",
   "metadata": {},
   "source": [
    "The conclusion is that with these data it is easy to predict whether there is an illness or not, but it is hard to specify the type of the illness."
   ]
  }
 ],
 "metadata": {
  "kernelspec": {
   "display_name": "Python 3",
   "language": "python",
   "name": "python3"
  },
  "language_info": {
   "codemirror_mode": {
    "name": "ipython",
    "version": 3
   },
   "file_extension": ".py",
   "mimetype": "text/x-python",
   "name": "python",
   "nbconvert_exporter": "python",
   "pygments_lexer": "ipython3",
   "version": "3.6.0"
  }
 },
 "nbformat": 4,
 "nbformat_minor": 2
}
